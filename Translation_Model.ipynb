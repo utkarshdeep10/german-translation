{
  "nbformat": 4,
  "nbformat_minor": 0,
  "metadata": {
    "colab": {
      "name": "Translation_Model.ipynb",
      "version": "0.3.2",
      "provenance": [],
      "collapsed_sections": []
    },
    "kernelspec": {
      "name": "python3",
      "display_name": "Python 3"
    },
    "accelerator": "GPU"
  },
  "cells": [
    {
      "cell_type": "code",
      "metadata": {
        "id": "dBpWCHtUKYXK",
        "colab_type": "code",
        "colab": {}
      },
      "source": [
        "import string\n",
        "import re\n",
        "from numpy import array, argmax, random, take\n",
        "import pandas as pd\n",
        "from keras.models import Sequential\n",
        "from keras.layers import Dense, LSTM, Embedding, Bidirectional, RepeatVector, TimeDistributed\n",
        "from keras.preprocessing.text import Tokenizer\n",
        "from keras.callbacks import ModelCheckpoint\n",
        "from keras.preprocessing.sequence import pad_sequences\n",
        "from keras.models import load_model\n",
        "from keras import optimizers\n",
        "import matplotlib.pyplot as plt\n",
        "%matplotlib inline\n",
        "pd.set_option('display.max_colwidth', 200)"
      ],
      "execution_count": 0,
      "outputs": []
    },
    {
      "cell_type": "code",
      "metadata": {
        "id": "IXBbAhPOKrMh",
        "colab_type": "code",
        "colab": {}
      },
      "source": [
        "# Read Files\n",
        "def read_textfile(filename):\n",
        "    file = open(filename, mode='rt', encoding='utf-8')\n",
        "    text = file.read()\n",
        "    file.close()\n",
        "    return text"
      ],
      "execution_count": 0,
      "outputs": []
    },
    {
      "cell_type": "code",
      "metadata": {
        "id": "1GVqmK7FKvKM",
        "colab_type": "code",
        "colab": {}
      },
      "source": [
        "# Split\n",
        "def to_lines(text):\n",
        "    sentences = text.strip().split('\\n')\n",
        "    sentences = [s.split('\\t') for s in sentences]\n",
        "    return sentences"
      ],
      "execution_count": 0,
      "outputs": []
    },
    {
      "cell_type": "code",
      "metadata": {
        "id": "iLf343KEKyvj",
        "colab_type": "code",
        "colab": {}
      },
      "source": [
        "data = read_textfile(\"deu.txt\")\n",
        "deu_eng = to_lines(data)\n",
        "deu_eng = array(deu_eng)"
      ],
      "execution_count": 0,
      "outputs": []
    },
    {
      "cell_type": "code",
      "metadata": {
        "id": "1HBM3bL6K6VY",
        "colab_type": "code",
        "colab": {}
      },
      "source": [
        "deu_eng = deu_eng[:60000,:]"
      ],
      "execution_count": 0,
      "outputs": []
    },
    {
      "cell_type": "code",
      "metadata": {
        "id": "yXup6mJfK6UY",
        "colab_type": "code",
        "colab": {}
      },
      "source": [
        "# Removing Punctuation\n",
        "deu_eng[:,0] = [sent.translate(str.maketrans('', '', string.punctuation)) for sent in deu_eng[:,0]]\n",
        "deu_eng[:,1] = [sent.translate(str.maketrans('', '', string.punctuation)) for sent in deu_eng[:,1]]"
      ],
      "execution_count": 0,
      "outputs": []
    },
    {
      "cell_type": "code",
      "metadata": {
        "id": "Yqq6UYMCLDe-",
        "colab_type": "code",
        "colab": {}
      },
      "source": [
        "# Lowercase\n",
        "for i in range(len(deu_eng)):\n",
        "    deu_eng[i,0] = deu_eng[i,0].lower()\n",
        "    \n",
        "    deu_eng[i,1] = deu_eng[i,1].lower()"
      ],
      "execution_count": 0,
      "outputs": []
    },
    {
      "cell_type": "code",
      "metadata": {
        "id": "gISUiCNzLG7O",
        "colab_type": "code",
        "colab": {}
      },
      "source": [
        "# empty lists\n",
        "eng_l = []\n",
        "ger_l = []\n",
        "\n",
        "# populate the lists with sentence lengths\n",
        "for i in deu_eng[:,0]:\n",
        "    eng_l.append(len(i.split()))\n",
        "\n",
        "for i in deu_eng[:,1]:\n",
        "    ger_l.append(len(i.split()))"
      ],
      "execution_count": 0,
      "outputs": []
    },
    {
      "cell_type": "code",
      "metadata": {
        "id": "PkLoqHGNLIgS",
        "colab_type": "code",
        "colab": {
          "base_uri": "https://localhost:8080/",
          "height": 281
        },
        "outputId": "dc832f66-39ab-4184-a5fd-ac33286f3ceb"
      },
      "source": [
        "length_df = pd.DataFrame({'eng':eng_l, 'ger':ger_l})\n",
        "length_df.hist(bins = 30)\n",
        "plt.show()"
      ],
      "execution_count": 13,
      "outputs": [
        {
          "output_type": "display_data",
          "data": {
            "image/png": "[encoded data removed]",
            "text/plain": [
              "<Figure size 432x288 with 2 Axes>"
            ]
          },
          "metadata": {
            "tags": []
          }
        }
      ]
    },
    {
      "cell_type": "code",
      "metadata": {
        "id": "Fb98J2MBLNCL",
        "colab_type": "code",
        "colab": {}
      },
      "source": [
        "# Tokenizer\n",
        "def token(lines):\n",
        "    tokenizer = Tokenizer()\n",
        "    tokenizer.fit_on_texts(lines)\n",
        "    return tokenizer"
      ],
      "execution_count": 0,
      "outputs": []
    },
    {
      "cell_type": "code",
      "metadata": {
        "id": "kMHkH24SLQxy",
        "colab_type": "code",
        "colab": {
          "base_uri": "https://localhost:8080/",
          "height": 34
        },
        "outputId": "0062a076-fee1-4596-9eb0-d67c3c2c9121"
      },
      "source": [
        "# English tokenizer\n",
        "eng_tokenizer = token(deu_eng[:, 0])\n",
        "eng_vocab_size = len(eng_tokenizer.word_index) + 1\n",
        "\n",
        "eng_length = 8\n",
        "print('English Vocabulary Size: %d' % eng_vocab_size)"
      ],
      "execution_count": 15,
      "outputs": [
        {
          "output_type": "stream",
          "text": [
            "English Vocabulary Size: 7049\n"
          ],
          "name": "stdout"
        }
      ]
    },
    {
      "cell_type": "code",
      "metadata": {
        "id": "BY_UWFEfLQwZ",
        "colab_type": "code",
        "colab": {
          "base_uri": "https://localhost:8080/",
          "height": 34
        },
        "outputId": "27e81d35-250a-41a0-9067-b714b1d57b23"
      },
      "source": [
        "# German tokenizer\n",
        "deu_tokenizer = token(deu_eng[:, 1])\n",
        "deu_vocab_size = len(deu_tokenizer.word_index) + 1\n",
        "\n",
        "deu_length = 8\n",
        "print('German Vocabulary Size: %d' % deu_vocab_size)"
      ],
      "execution_count": 16,
      "outputs": [
        {
          "output_type": "stream",
          "text": [
            "German Vocabulary Size: 12113\n"
          ],
          "name": "stdout"
        }
      ]
    },
    {
      "cell_type": "code",
      "metadata": {
        "id": "Jbj-3yhaLXCz",
        "colab_type": "code",
        "colab": {}
      },
      "source": [
        "#Padding Sequences\n",
        "def encode_sequences(tokenizer, length, lines):\n",
        "    # integer encode sequences\n",
        "    seq = tokenizer.texts_to_sequences(lines)\n",
        "    # pad sequences with 0 values\n",
        "    seq = pad_sequences(seq, maxlen=length, padding='post')\n",
        "    return seq"
      ],
      "execution_count": 0,
      "outputs": []
    },
    {
      "cell_type": "code",
      "metadata": {
        "id": "ilF-CCj_Lckd",
        "colab_type": "code",
        "colab": {}
      },
      "source": [
        "#Model Building and Split\n",
        "from sklearn.model_selection import train_test_split\n",
        "train, test = train_test_split(deu_eng, test_size=0.2, random_state = 10)"
      ],
      "execution_count": 0,
      "outputs": []
    },
    {
      "cell_type": "code",
      "metadata": {
        "id": "AoOIip8JLfsT",
        "colab_type": "code",
        "colab": {}
      },
      "source": [
        "#Training Data\n",
        "trainX = encode_sequences(deu_tokenizer, deu_length, train[:, 1])\n",
        "trainY = encode_sequences(eng_tokenizer, eng_length, train[:, 0])"
      ],
      "execution_count": 0,
      "outputs": []
    },
    {
      "cell_type": "code",
      "metadata": {
        "id": "mQsdLq73LiOH",
        "colab_type": "code",
        "colab": {}
      },
      "source": [
        "# Validation Data\n",
        "testX = encode_sequences(deu_tokenizer, deu_length, test[:, 1])\n",
        "testY = encode_sequences(eng_tokenizer, eng_length, test[:, 0])"
      ],
      "execution_count": 0,
      "outputs": []
    },
    {
      "cell_type": "code",
      "metadata": {
        "id": "N8QDgo2eLkud",
        "colab_type": "code",
        "colab": {}
      },
      "source": [
        "# RNN Model\n",
        "def build_model(in_vocab, out_vocab, in_timesteps, out_timesteps, units):\n",
        "    model = Sequential()\n",
        "    model.add(Embedding(in_vocab, units, input_length=in_timesteps, mask_zero=True))\n",
        "    model.add(LSTM(units))\n",
        "    model.add(RepeatVector(out_timesteps))\n",
        "    model.add(LSTM(units, return_sequences=True))\n",
        "    model.add(Dense(out_vocab, activation='softmax'))\n",
        "    return model"
      ],
      "execution_count": 0,
      "outputs": []
    },
    {
      "cell_type": "code",
      "metadata": {
        "id": "Mr2HsLE5LoWF",
        "colab_type": "code",
        "colab": {
          "base_uri": "https://localhost:8080/",
          "height": 275
        },
        "outputId": "ce5f14ee-ac03-4fa5-e726-3b9d440c119c"
      },
      "source": [
        "model = build_model(deu_vocab_size, eng_vocab_size, deu_length, eng_length, 512)\n",
        "rms = optimizers.RMSprop(lr=0.001)\n",
        "model.compile(optimizer=rms, loss='sparse_categorical_crossentropy')"
      ],
      "execution_count": 22,
      "outputs": [
        {
          "output_type": "stream",
          "text": [
            "WARNING: Logging before flag parsing goes to stderr.\n",
            "W0811 10:20:58.071575 140573390124928 deprecation_wrapper.py:119] From /usr/local/lib/python3.6/dist-packages/keras/backend/tensorflow_backend.py:74: The name tf.get_default_graph is deprecated. Please use tf.compat.v1.get_default_graph instead.\n",
            "\n",
            "W0811 10:20:58.117448 140573390124928 deprecation_wrapper.py:119] From /usr/local/lib/python3.6/dist-packages/keras/backend/tensorflow_backend.py:517: The name tf.placeholder is deprecated. Please use tf.compat.v1.placeholder instead.\n",
            "\n",
            "W0811 10:20:58.127386 140573390124928 deprecation_wrapper.py:119] From /usr/local/lib/python3.6/dist-packages/keras/backend/tensorflow_backend.py:4138: The name tf.random_uniform is deprecated. Please use tf.random.uniform instead.\n",
            "\n",
            "W0811 10:20:59.085262 140573390124928 deprecation.py:323] From /usr/local/lib/python3.6/dist-packages/keras/backend/tensorflow_backend.py:2974: add_dispatch_support.<locals>.wrapper (from tensorflow.python.ops.array_ops) is deprecated and will be removed in a future version.\n",
            "Instructions for updating:\n",
            "Use tf.where in 2.0, which has the same broadcast rule as np.where\n",
            "W0811 10:21:00.161021 140573390124928 deprecation_wrapper.py:119] From /usr/local/lib/python3.6/dist-packages/keras/optimizers.py:790: The name tf.train.Optimizer is deprecated. Please use tf.compat.v1.train.Optimizer instead.\n",
            "\n",
            "W0811 10:21:00.170833 140573390124928 deprecation_wrapper.py:119] From /usr/local/lib/python3.6/dist-packages/keras/backend/tensorflow_backend.py:3341: The name tf.log is deprecated. Please use tf.math.log instead.\n",
            "\n"
          ],
          "name": "stderr"
        }
      ]
    },
    {
      "cell_type": "code",
      "metadata": {
        "id": "zMmi66UiLsBt",
        "colab_type": "code",
        "colab": {
          "base_uri": "https://localhost:8080/",
          "height": 1000
        },
        "outputId": "be5bd019-04b7-41b8-9cb7-e8c7876f4116"
      },
      "source": [
        "filename = 'model.h1'\n",
        "checkpoint = ModelCheckpoint(filename, monitor='val_loss', verbose=1, save_best_only=True, mode='min')\n",
        "\n",
        "history = model.fit(trainX, trainY.reshape(trainY.shape[0], trainY.shape[1], 1), \n",
        "          epochs=30, batch_size=512, \n",
        "          validation_split = 0.2,\n",
        "          callbacks=[checkpoint], verbose=1)"
      ],
      "execution_count": 23,
      "outputs": [
        {
          "output_type": "stream",
          "text": [
            "W0811 10:21:12.980399 140573390124928 deprecation_wrapper.py:119] From /usr/local/lib/python3.6/dist-packages/keras/backend/tensorflow_backend.py:986: The name tf.assign_add is deprecated. Please use tf.compat.v1.assign_add instead.\n",
            "\n"
          ],
          "name": "stderr"
        },
        {
          "output_type": "stream",
          "text": [
            "Train on 38400 samples, validate on 9600 samples\n",
            "Epoch 1/30\n",
            "38400/38400 [==============================] - 15s 379us/step - loss: 3.6089 - val_loss: 3.0974\n",
            "\n",
            "Epoch 00001: val_loss improved from inf to 3.09736, saving model to model.h1\n",
            "Epoch 2/30\n",
            "38400/38400 [==============================] - 9s 238us/step - loss: 2.9997 - val_loss: 2.9725\n",
            "\n",
            "Epoch 00002: val_loss improved from 3.09736 to 2.97255, saving model to model.h1\n",
            "Epoch 3/30\n",
            "38400/38400 [==============================] - 9s 239us/step - loss: 2.7832 - val_loss: 2.7775\n",
            "\n",
            "Epoch 00003: val_loss improved from 2.97255 to 2.77748, saving model to model.h1\n",
            "Epoch 4/30\n",
            "38400/38400 [==============================] - 9s 240us/step - loss: 2.6124 - val_loss: 2.6123\n",
            "\n",
            "Epoch 00004: val_loss improved from 2.77748 to 2.61232, saving model to model.h1\n",
            "Epoch 5/30\n",
            "38400/38400 [==============================] - 9s 239us/step - loss: 2.4552 - val_loss: 2.4802\n",
            "\n",
            "Epoch 00005: val_loss improved from 2.61232 to 2.48019, saving model to model.h1\n",
            "Epoch 6/30\n",
            "38400/38400 [==============================] - 9s 241us/step - loss: 2.3010 - val_loss: 2.3722\n",
            "\n",
            "Epoch 00006: val_loss improved from 2.48019 to 2.37223, saving model to model.h1\n",
            "Epoch 7/30\n",
            "38400/38400 [==============================] - 9s 243us/step - loss: 2.1622 - val_loss: 2.2697\n",
            "\n",
            "Epoch 00007: val_loss improved from 2.37223 to 2.26970, saving model to model.h1\n",
            "Epoch 8/30\n",
            "38400/38400 [==============================] - 9s 243us/step - loss: 2.0350 - val_loss: 2.1631\n",
            "\n",
            "Epoch 00008: val_loss improved from 2.26970 to 2.16305, saving model to model.h1\n",
            "Epoch 9/30\n",
            "38400/38400 [==============================] - 9s 244us/step - loss: 1.9078 - val_loss: 2.0797\n",
            "\n",
            "Epoch 00009: val_loss improved from 2.16305 to 2.07972, saving model to model.h1\n",
            "Epoch 10/30\n",
            "38400/38400 [==============================] - 9s 243us/step - loss: 1.7872 - val_loss: 1.9980\n",
            "\n",
            "Epoch 00010: val_loss improved from 2.07972 to 1.99801, saving model to model.h1\n",
            "Epoch 11/30\n",
            "38400/38400 [==============================] - 9s 243us/step - loss: 1.6712 - val_loss: 1.9054\n",
            "\n",
            "Epoch 00011: val_loss improved from 1.99801 to 1.90536, saving model to model.h1\n",
            "Epoch 12/30\n",
            "38400/38400 [==============================] - 9s 245us/step - loss: 1.5637 - val_loss: 1.8568\n",
            "\n",
            "Epoch 00012: val_loss improved from 1.90536 to 1.85685, saving model to model.h1\n",
            "Epoch 13/30\n",
            "38400/38400 [==============================] - 10s 249us/step - loss: 1.4610 - val_loss: 1.7745\n",
            "\n",
            "Epoch 00013: val_loss improved from 1.85685 to 1.77451, saving model to model.h1\n",
            "Epoch 14/30\n",
            "38400/38400 [==============================] - 10s 250us/step - loss: 1.3634 - val_loss: 1.7147\n",
            "\n",
            "Epoch 00014: val_loss improved from 1.77451 to 1.71475, saving model to model.h1\n",
            "Epoch 15/30\n",
            "38400/38400 [==============================] - 10s 252us/step - loss: 1.2725 - val_loss: 1.7004\n",
            "\n",
            "Epoch 00015: val_loss improved from 1.71475 to 1.70039, saving model to model.h1\n",
            "Epoch 16/30\n",
            "38400/38400 [==============================] - 10s 255us/step - loss: 1.1843 - val_loss: 1.6255\n",
            "\n",
            "Epoch 00016: val_loss improved from 1.70039 to 1.62547, saving model to model.h1\n",
            "Epoch 17/30\n",
            "38400/38400 [==============================] - 10s 253us/step - loss: 1.1024 - val_loss: 1.5902\n",
            "\n",
            "Epoch 00017: val_loss improved from 1.62547 to 1.59019, saving model to model.h1\n",
            "Epoch 18/30\n",
            "38400/38400 [==============================] - 10s 250us/step - loss: 1.0254 - val_loss: 1.5754\n",
            "\n",
            "Epoch 00018: val_loss improved from 1.59019 to 1.57542, saving model to model.h1\n",
            "Epoch 19/30\n",
            "38400/38400 [==============================] - 10s 249us/step - loss: 0.9510 - val_loss: 1.5212\n",
            "\n",
            "Epoch 00019: val_loss improved from 1.57542 to 1.52117, saving model to model.h1\n",
            "Epoch 20/30\n",
            "38400/38400 [==============================] - 10s 249us/step - loss: 0.8809 - val_loss: 1.4936\n",
            "\n",
            "Epoch 00020: val_loss improved from 1.52117 to 1.49356, saving model to model.h1\n",
            "Epoch 21/30\n",
            "38400/38400 [==============================] - 10s 249us/step - loss: 0.8152 - val_loss: 1.4685\n",
            "\n",
            "Epoch 00021: val_loss improved from 1.49356 to 1.46851, saving model to model.h1\n",
            "Epoch 22/30\n",
            "38400/38400 [==============================] - 10s 249us/step - loss: 0.7512 - val_loss: 1.4482\n",
            "\n",
            "Epoch 00022: val_loss improved from 1.46851 to 1.44819, saving model to model.h1\n",
            "Epoch 23/30\n",
            "38400/38400 [==============================] - 10s 250us/step - loss: 0.6935 - val_loss: 1.4399\n",
            "\n",
            "Epoch 00023: val_loss improved from 1.44819 to 1.43993, saving model to model.h1\n",
            "Epoch 24/30\n",
            "38400/38400 [==============================] - 10s 251us/step - loss: 0.6384 - val_loss: 1.4145\n",
            "\n",
            "Epoch 00024: val_loss improved from 1.43993 to 1.41454, saving model to model.h1\n",
            "Epoch 25/30\n",
            "38400/38400 [==============================] - 10s 251us/step - loss: 0.5868 - val_loss: 1.4169\n",
            "\n",
            "Epoch 00025: val_loss did not improve from 1.41454\n",
            "Epoch 26/30\n",
            "38400/38400 [==============================] - 10s 249us/step - loss: 0.5391 - val_loss: 1.4069\n",
            "\n",
            "Epoch 00026: val_loss improved from 1.41454 to 1.40690, saving model to model.h1\n",
            "Epoch 27/30\n",
            "38400/38400 [==============================] - 10s 250us/step - loss: 0.4943 - val_loss: 1.3951\n",
            "\n",
            "Epoch 00027: val_loss improved from 1.40690 to 1.39510, saving model to model.h1\n",
            "Epoch 28/30\n",
            "38400/38400 [==============================] - 10s 250us/step - loss: 0.4518 - val_loss: 1.3910\n",
            "\n",
            "Epoch 00028: val_loss improved from 1.39510 to 1.39101, saving model to model.h1\n",
            "Epoch 29/30\n",
            "38400/38400 [==============================] - 10s 250us/step - loss: 0.4133 - val_loss: 1.3970\n",
            "\n",
            "Epoch 00029: val_loss did not improve from 1.39101\n",
            "Epoch 30/30\n",
            "38400/38400 [==============================] - 10s 249us/step - loss: 0.3768 - val_loss: 1.3908\n",
            "\n",
            "Epoch 00030: val_loss improved from 1.39101 to 1.39081, saving model to model.h1\n"
          ],
          "name": "stdout"
        }
      ]
    },
    {
      "cell_type": "code",
      "metadata": {
        "id": "ZRC4tTjLLyCN",
        "colab_type": "code",
        "colab": {
          "base_uri": "https://localhost:8080/",
          "height": 269
        },
        "outputId": "d0c15f9e-aade-448e-cfa6-b78555427688"
      },
      "source": [
        "plt.plot(history.history['loss'])\n",
        "plt.plot(history.history['val_loss'])\n",
        "plt.legend(['train','validation'])\n",
        "plt.show()"
      ],
      "execution_count": 24,
      "outputs": [
        {
          "output_type": "display_data",
          "data": {
            "image/png": "[encoded data removed]",
            "text/plain": [
              "<Figure size 432x288 with 1 Axes>"
            ]
          },
          "metadata": {
            "tags": []
          }
        }
      ]
    },
    {
      "cell_type": "code",
      "metadata": {
        "id": "PcLsl1adL1Xa",
        "colab_type": "code",
        "colab": {}
      },
      "source": [
        "model = load_model('model.h1')\n",
        "preds = model.predict_classes(testX.reshape((testX.shape[0],testX.shape[1])))"
      ],
      "execution_count": 0,
      "outputs": []
    },
    {
      "cell_type": "code",
      "metadata": {
        "id": "ptgCin3RL4tZ",
        "colab_type": "code",
        "colab": {}
      },
      "source": [
        "def get_word(n, tokenizer):\n",
        "    for word, index in tokenizer.word_index.items():\n",
        "        if index == n:\n",
        "            return word\n",
        "    return None"
      ],
      "execution_count": 0,
      "outputs": []
    },
    {
      "cell_type": "code",
      "metadata": {
        "id": "tb5M3TozL6x1",
        "colab_type": "code",
        "colab": {}
      },
      "source": [
        "preds_text = []\n",
        "for i in preds:\n",
        "    temp = []\n",
        "    for j in range(len(i)):\n",
        "        t = get_word(i[j], eng_tokenizer)\n",
        "        if j > 0:\n",
        "            if (t == get_word(i[j-1], eng_tokenizer)) or (t == None):\n",
        "                temp.append('')\n",
        "            else:\n",
        "                temp.append(t)\n",
        "             \n",
        "        else:\n",
        "            if(t == None):\n",
        "                temp.append('')\n",
        "            else:\n",
        "                temp.append(t)            \n",
        "        \n",
        "    preds_text.append(' '.join(temp))"
      ],
      "execution_count": 0,
      "outputs": []
    },
    {
      "cell_type": "code",
      "metadata": {
        "id": "o4KF_h2XL86L",
        "colab_type": "code",
        "colab": {}
      },
      "source": [
        "pred_df = pd.DataFrame({'actual' : test[:,0], 'predicted' : preds_text})\n",
        "pd.set_option('display.max_colwidth', 200)"
      ],
      "execution_count": 0,
      "outputs": []
    },
    {
      "cell_type": "code",
      "metadata": {
        "id": "2_xLGJ3XL_np",
        "colab_type": "code",
        "colab": {
          "base_uri": "https://localhost:8080/",
          "height": 514
        },
        "outputId": "1019be1a-92a2-4bcf-e6fc-f35a6bc7e059"
      },
      "source": [
        "pred_df.sample(15)"
      ],
      "execution_count": 39,
      "outputs": [
        {
          "output_type": "execute_result",
          "data": {
            "text/html": [
              "<div>\n",
              "<style scoped>\n",
              "    .dataframe tbody tr th:only-of-type {\n",
              "        vertical-align: middle;\n",
              "    }\n",
              "\n",
              "    .dataframe tbody tr th {\n",
              "        vertical-align: top;\n",
              "    }\n",
              "\n",
              "    .dataframe thead th {\n",
              "        text-align: right;\n",
              "    }\n",
              "</style>\n",
              "<table border=\"1\" class=\"dataframe\">\n",
              "  <thead>\n",
              "    <tr style=\"text-align: right;\">\n",
              "      <th></th>\n",
              "      <th>actual</th>\n",
              "      <th>predicted</th>\n",
              "    </tr>\n",
              "  </thead>\n",
              "  <tbody>\n",
              "    <tr>\n",
              "      <th>5997</th>\n",
              "      <td>stop bothering me</td>\n",
              "      <td>stop bothering me</td>\n",
              "    </tr>\n",
              "    <tr>\n",
              "      <th>10794</th>\n",
              "      <td>is this love</td>\n",
              "      <td>is this love</td>\n",
              "    </tr>\n",
              "    <tr>\n",
              "      <th>11436</th>\n",
              "      <td>wheres my phone book</td>\n",
              "      <td>wheres my</td>\n",
              "    </tr>\n",
              "    <tr>\n",
              "      <th>3844</th>\n",
              "      <td>your shoes are here</td>\n",
              "      <td>your shoes are here</td>\n",
              "    </tr>\n",
              "    <tr>\n",
              "      <th>7592</th>\n",
              "      <td>i knew youd get it</td>\n",
              "      <td>i knew youd get it</td>\n",
              "    </tr>\n",
              "    <tr>\n",
              "      <th>10826</th>\n",
              "      <td>i never eat meat</td>\n",
              "      <td>i could eat</td>\n",
              "    </tr>\n",
              "    <tr>\n",
              "      <th>1017</th>\n",
              "      <td>why did you wake me up</td>\n",
              "      <td>why did you wake me up</td>\n",
              "    </tr>\n",
              "    <tr>\n",
              "      <th>7477</th>\n",
              "      <td>tom is walking south</td>\n",
              "      <td>tom is going in bed</td>\n",
              "    </tr>\n",
              "    <tr>\n",
              "      <th>4511</th>\n",
              "      <td>tom disagreed</td>\n",
              "      <td>tom objected</td>\n",
              "    </tr>\n",
              "    <tr>\n",
              "      <th>5020</th>\n",
              "      <td>tom was gone</td>\n",
              "      <td>tom was</td>\n",
              "    </tr>\n",
              "    <tr>\n",
              "      <th>4394</th>\n",
              "      <td>please turn off the gas</td>\n",
              "      <td>please turn the please</td>\n",
              "    </tr>\n",
              "    <tr>\n",
              "      <th>568</th>\n",
              "      <td>is that the plan</td>\n",
              "      <td>is that your plan</td>\n",
              "    </tr>\n",
              "    <tr>\n",
              "      <th>6309</th>\n",
              "      <td>tom kept smiling</td>\n",
              "      <td>tom kept sing</td>\n",
              "    </tr>\n",
              "    <tr>\n",
              "      <th>3383</th>\n",
              "      <td>they killed tom</td>\n",
              "      <td>they murdered tom</td>\n",
              "    </tr>\n",
              "    <tr>\n",
              "      <th>7483</th>\n",
              "      <td>do we have to go there</td>\n",
              "      <td>do we have to go there</td>\n",
              "    </tr>\n",
              "  </tbody>\n",
              "</table>\n",
              "</div>"
            ],
            "text/plain": [
              "                        actual                   predicted\n",
              "5997         stop bothering me      stop bothering me     \n",
              "10794             is this love           is this love     \n",
              "11436     wheres my phone book             wheres my      \n",
              "3844       your shoes are here     your shoes are here    \n",
              "7592        i knew youd get it       i knew youd get it   \n",
              "10826         i never eat meat            i could eat     \n",
              "1017    why did you wake me up    why did you wake me up  \n",
              "7477      tom is walking south      tom is going in bed   \n",
              "4511             tom disagreed          tom objected      \n",
              "5020              tom was gone               tom was      \n",
              "4394   please turn off the gas  please turn the please    \n",
              "568           is that the plan       is that your plan    \n",
              "6309          tom kept smiling          tom kept sing     \n",
              "3383           they killed tom      they murdered tom     \n",
              "7483    do we have to go there    do we have to go there  "
            ]
          },
          "metadata": {
            "tags": []
          },
          "execution_count": 39
        }
      ]
    }
  ]
}